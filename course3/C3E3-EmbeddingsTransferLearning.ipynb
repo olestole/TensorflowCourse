{
 "cells": [
  {
   "cell_type": "code",
   "execution_count": 4,
   "metadata": {},
   "outputs": [],
   "source": [
    "import tensorflow as tf\n",
    "import csv\n",
    "import random\n",
    "import numpy as np\n",
    "\n",
    "from tensorflow.keras.preprocessing.text import Tokenizer\n",
    "from tensorflow.keras.preprocessing.sequence import pad_sequences\n",
    "from tensorflow.keras.utils import to_categorical\n",
    "from tensorflow.keras import regularizers\n",
    "import gdown\n",
    "import os"
   ]
  },
  {
   "cell_type": "code",
   "execution_count": 55,
   "metadata": {},
   "outputs": [],
   "source": [
    "# Configuration variables\n",
    "embedding_dim = 100\n",
    "max_length = 16\n",
    "trunc_type='post'\n",
    "padding_type='post'\n",
    "oov_tok = \"<OOV>\"\n",
    "training_size= 160000 #Your dataset size here. Experiment using smaller values (i.e. 16000), but don't forget to train on at least 160000 to see the best effects\n",
    "test_portion=.1"
   ]
  },
  {
   "cell_type": "code",
   "execution_count": 31,
   "metadata": {},
   "outputs": [],
   "source": [
    "data_path = \"../data\"\n",
    "data_folder_path = os.path.join(data_path, \"C3E3-StanfordData/\")"
   ]
  },
  {
   "cell_type": "code",
   "execution_count": 35,
   "metadata": {},
   "outputs": [
    {
     "name": "stderr",
     "output_type": "stream",
     "text": [
      "Downloading...\n",
      "From: https://drive.google.com/uc?id=1wd8KaeCSHxt-nEpMeuHFSNWrDp8joUXJ\n",
      "To: /Users/olestole/code/kurs/tensorflow_specialty/data/C3E3-StanfordData/training_cleaned.csv\n",
      "100%|██████████| 239M/239M [01:08<00:00, 3.47MB/s]\n",
      "Downloading...\n",
      "From: https://drive.google.com/uc?id=1W5vZy2etitAblLdFn8_DxnsQKzfFJ98g\n",
      "To: /Users/olestole/code/kurs/tensorflow_specialty/data/C3E3-StanfordData/glove.6B.100d.txt\n",
      "100%|██████████| 347M/347M [01:54<00:00, 3.03MB/s]\n"
     ]
    },
    {
     "data": {
      "text/plain": [
       "'../data/C3E3-StanfordData/glove.6B.100d.txt'"
      ]
     },
     "execution_count": 35,
     "metadata": {},
     "output_type": "execute_result"
    }
   ],
   "source": [
    "os.makedirs(data_folder_path)\n",
    "\n",
    "# Processed training data\n",
    "gdown.download(id=\"1wd8KaeCSHxt-nEpMeuHFSNWrDp8joUXJ\", output=data_folder_path)\n",
    "\n",
    "# 100 dimension version of GloVe from Stanford\n",
    "gdown.download(id=\"1W5vZy2etitAblLdFn8_DxnsQKzfFJ98g\", output=data_folder_path)"
   ]
  },
  {
   "cell_type": "code",
   "execution_count": 56,
   "metadata": {},
   "outputs": [],
   "source": [
    "training_path = os.path.join(data_folder_path, \"training_cleaned.csv\")\n",
    "num_sentences = 0\n",
    "corpus = []\n",
    "\n",
    "with open(training_path) as csvfile:\n",
    "    reader = csv.reader(csvfile, delimiter=',')\n",
    "    for row in reader:\n",
    "        # list_item[0] = text\n",
    "        # list_item[1] = label -> 0/1\n",
    "        list_item = []\n",
    "        list_item.append(row[5])\n",
    "        if (row[0] == '0'):\n",
    "            list_item.append(0)\n",
    "        elif (row[0] == '4'):\n",
    "            list_item.append(1)\n",
    "        else:\n",
    "            print(\"Error!\")\n",
    "        \n",
    "        num_sentences = num_sentences + 1\n",
    "        corpus.append(list_item)"
   ]
  },
  {
   "cell_type": "code",
   "execution_count": 57,
   "metadata": {},
   "outputs": [
    {
     "name": "stdout",
     "output_type": "stream",
     "text": [
      "1600000\n",
      "1600000\n",
      "[\"is upset that he can't update his Facebook by texting it... and might cry as a result  School today also. Blah!\", 0]\n"
     ]
    }
   ],
   "source": [
    "print(num_sentences)\n",
    "print(len(corpus))\n",
    "print(corpus[1])"
   ]
  },
  {
   "cell_type": "code",
   "execution_count": 58,
   "metadata": {},
   "outputs": [],
   "source": [
    "sentences = []\n",
    "labels = []\n",
    "random.shuffle(corpus)\n",
    "\n",
    "for i in range(training_size):\n",
    "    sentences.append(corpus[i][0])\n",
    "    labels.append(corpus[i][1])\n",
    "\n",
    "# Create a tokenizer from the corpus\n",
    "tokenizer = Tokenizer(oov_token=oov_tok)\n",
    "tokenizer.fit_on_texts(sentences)\n",
    "\n",
    "word_index = tokenizer.word_index\n",
    "vocab_size=len(word_index)\n",
    "\n",
    "sequences = tokenizer.texts_to_sequences(sentences)\n",
    "padded = pad_sequences(sequences, maxlen=max_length, truncating=trunc_type)\n",
    "\n",
    "# Split the sequences to training-/validation-sets\n",
    "split = int(test_portion * training_size)\n",
    "\n",
    "test_sequences = padded[0:split]\n",
    "training_sequences = padded[split:training_size]\n",
    "test_labels = labels[0:split]\n",
    "training_labels = labels[split:training_size]"
   ]
  },
  {
   "cell_type": "code",
   "execution_count": 59,
   "metadata": {},
   "outputs": [
    {
     "name": "stdout",
     "output_type": "stream",
     "text": [
      "138230\n",
      "2\n"
     ]
    }
   ],
   "source": [
    "print(vocab_size)\n",
    "print(word_index['i'])"
   ]
  },
  {
   "cell_type": "code",
   "execution_count": 60,
   "metadata": {},
   "outputs": [],
   "source": [
    "embeddings_path = os.path.join(data_folder_path, \"glove.6B.100d.txt\")\n",
    "\n",
    "embeddings_index = {}\n",
    "with open(embeddings_path) as f:\n",
    "    for line in f:\n",
    "        values = line.split()\n",
    "        word = values[0]\n",
    "        coefs = np.asarray(values[1:], dtype='float32')\n",
    "        embeddings_index[word] = coefs\n",
    "\n",
    "embeddings_matrix = np.zeros((vocab_size + 1, embedding_dim))\n",
    "for word, i in word_index.items():\n",
    "    embedding_vector = embeddings_index.get(word)\n",
    "    if embedding_vector is not None:\n",
    "        embeddings_matrix[i] = embedding_vector"
   ]
  },
  {
   "cell_type": "code",
   "execution_count": 61,
   "metadata": {},
   "outputs": [
    {
     "name": "stdout",
     "output_type": "stream",
     "text": [
      "138231\n"
     ]
    }
   ],
   "source": [
    "# print(embeddings_index)\n",
    "print(len(embeddings_matrix))"
   ]
  },
  {
   "cell_type": "code",
   "execution_count": 79,
   "metadata": {},
   "outputs": [
    {
     "name": "stdout",
     "output_type": "stream",
     "text": [
      "Model: \"sequential_24\"\n",
      "_________________________________________________________________\n",
      " Layer (type)                Output Shape              Param #   \n",
      "=================================================================\n",
      " embedding_24 (Embedding)    (None, 16, 100)           13823100  \n",
      "                                                                 \n",
      " conv1d_25 (Conv1D)          (None, 12, 64)            32064     \n",
      "                                                                 \n",
      " max_pooling1d_20 (MaxPoolin  (None, 3, 64)            0         \n",
      " g1D)                                                            \n",
      "                                                                 \n",
      " lstm_6 (LSTM)               (None, 64)                33024     \n",
      "                                                                 \n",
      " dense_40 (Dense)            (None, 1)                 65        \n",
      "                                                                 \n",
      "=================================================================\n",
      "Total params: 13,888,253\n",
      "Trainable params: 65,153\n",
      "Non-trainable params: 13,823,100\n",
      "_________________________________________________________________\n"
     ]
    }
   ],
   "source": [
    "# Create the model to fit the subwords\n",
    "model = tf.keras.Sequential([\n",
    "    tf.keras.layers.Embedding(vocab_size + 1, embedding_dim, input_length=max_length, weights=[embeddings_matrix], trainable=False),\n",
    "    tf.keras.layers.Conv1D(64, 5, activation='relu'),\n",
    "    tf.keras.layers.MaxPooling1D(pool_size=4),\n",
    "    tf.keras.layers.LSTM(64),\n",
    "    tf.keras.layers.Dense(1, activation='sigmoid')\n",
    "])\n",
    "\n",
    "model.compile(loss='binary_crossentropy', optimizer='adam', metrics=['accuracy'])\n",
    "model.summary()"
   ]
  },
  {
   "cell_type": "code",
   "execution_count": 80,
   "metadata": {},
   "outputs": [
    {
     "name": "stdout",
     "output_type": "stream",
     "text": [
      "Epoch 1/5\n",
      "4500/4500 - 16s - loss: 0.5490 - accuracy: 0.7142 - val_loss: 0.5200 - val_accuracy: 0.7362 - 16s/epoch - 3ms/step\n",
      "Epoch 2/5\n",
      "4500/4500 - 14s - loss: 0.5024 - accuracy: 0.7509 - val_loss: 0.5297 - val_accuracy: 0.7247 - 14s/epoch - 3ms/step\n",
      "Epoch 3/5\n",
      "4500/4500 - 12s - loss: 0.4784 - accuracy: 0.7656 - val_loss: 0.5118 - val_accuracy: 0.7465 - 12s/epoch - 3ms/step\n",
      "Epoch 4/5\n",
      "4500/4500 - 13s - loss: 0.4583 - accuracy: 0.7794 - val_loss: 0.5104 - val_accuracy: 0.7484 - 13s/epoch - 3ms/step\n",
      "Epoch 5/5\n",
      "4500/4500 - 12s - loss: 0.4399 - accuracy: 0.7905 - val_loss: 0.5131 - val_accuracy: 0.7460 - 12s/epoch - 3ms/step\n"
     ]
    }
   ],
   "source": [
    "num_epochs = 5\n",
    "\n",
    "training_padded = np.array(training_sequences)\n",
    "training_labels = np.array(training_labels)\n",
    "testing_padded = np.array(test_sequences)\n",
    "testing_labels = np.array(test_labels)\n",
    "\n",
    "history = model.fit(training_padded, training_labels, epochs=num_epochs, validation_data=(testing_padded, testing_labels), verbose=2)"
   ]
  },
  {
   "cell_type": "code",
   "execution_count": 81,
   "metadata": {},
   "outputs": [
    {
     "data": {
      "text/plain": [
       "<Figure size 432x288 with 0 Axes>"
      ]
     },
     "execution_count": 81,
     "metadata": {},
     "output_type": "execute_result"
    },
    {
     "data": {
      "image/png": "[encoded data removed]",
      "text/plain": [
       "<Figure size 432x288 with 1 Axes>"
      ]
     },
     "metadata": {
      "needs_background": "light"
     },
     "output_type": "display_data"
    },
    {
     "data": {
      "image/png": "[encoded data removed]",
      "text/plain": [
       "<Figure size 432x288 with 1 Axes>"
      ]
     },
     "metadata": {
      "needs_background": "light"
     },
     "output_type": "display_data"
    },
    {
     "data": {
      "text/plain": [
       "<Figure size 432x288 with 0 Axes>"
      ]
     },
     "metadata": {},
     "output_type": "display_data"
    }
   ],
   "source": [
    "import matplotlib.image  as mpimg\n",
    "import matplotlib.pyplot as plt\n",
    "\n",
    "#-----------------------------------------------------------\n",
    "# Retrieve a list of list results on training and test data\n",
    "# sets for each training epoch\n",
    "#-----------------------------------------------------------\n",
    "acc=history.history['accuracy']\n",
    "val_acc=history.history['val_accuracy']\n",
    "loss=history.history['loss']\n",
    "val_loss=history.history['val_loss']\n",
    "\n",
    "epochs=range(len(acc)) # Get number of epochs\n",
    "\n",
    "#------------------------------------------------\n",
    "# Plot training and validation accuracy per epoch\n",
    "#------------------------------------------------\n",
    "plt.plot(epochs, acc, 'r')\n",
    "plt.plot(epochs, val_acc, 'b')\n",
    "plt.title('Training and validation accuracy')\n",
    "plt.xlabel(\"Epochs\")\n",
    "plt.ylabel(\"Accuracy\")\n",
    "plt.legend([\"Accuracy\", \"Validation Accuracy\"])\n",
    "\n",
    "plt.figure()\n",
    "\n",
    "#------------------------------------------------\n",
    "# Plot training and validation loss per epoch\n",
    "#------------------------------------------------\n",
    "plt.plot(epochs, loss, 'r')\n",
    "plt.plot(epochs, val_loss, 'b')\n",
    "plt.title('Training and validation loss')\n",
    "plt.xlabel(\"Epochs\")\n",
    "plt.ylabel(\"Loss\")\n",
    "plt.legend([\"Loss\", \"Validation Loss\"])\n",
    "\n",
    "plt.figure()\n",
    "\n",
    "\n",
    "# Expected Output\n",
    "# A chart where the validation loss does not increase sharply!"
   ]
  },
  {
   "cell_type": "code",
   "execution_count": 113,
   "metadata": {},
   "outputs": [
    {
     "name": "stdout",
     "output_type": "stream",
     "text": [
      "0 - Negative:\t I hate eating dinner every day, I'm so full of this shit\n",
      "1 - Positive:\t I love everything in this world, it's all so beautiful\n",
      "1 - Positive:\t The sky is so pretty\n",
      "0 - Negative:\t I might die soon\n",
      "0 - Negative:\t Donald Trump is the worst president of all times\n"
     ]
    }
   ],
   "source": [
    "def make_sentiment_prediction(prediction_sentences):\n",
    "    prediction_sequences = tokenizer.texts_to_sequences(prediction_sentences)\n",
    "    padded_prediction_sequences = pad_sequences(prediction_sequences, maxlen=max_length)\n",
    "    predictions = model.predict(padded_prediction_sequences)\n",
    "    for index, prediction in enumerate(predictions):\n",
    "        label = 0 if prediction < 0.5 else 1\n",
    "        meaning = \"Positive\" if label else \"Negative\"\n",
    "        print(f\"{label} - {meaning}:\\t {prediction_sentences[index]}\")\n",
    "\n",
    "prediction_sentences = [\n",
    "    \"I hate eating dinner every day, I'm so full of this shit\",\n",
    "    \"I love everything in this world, it's all so beautiful\",\n",
    "    \"The sky is so pretty\",\n",
    "    \"I might die soon\",\n",
    "    \"Donald Trump is the worst president of all times\",\n",
    "]\n",
    "\n",
    "make_sentiment_prediction(prediction_sentences)"
   ]
  }
 ],
 "metadata": {
  "interpreter": {
   "hash": "f8b8d46b596f3682efb9d41cbca3c28fe17fcce043b965f9dcdd46717bc9d873"
  },
  "kernelspec": {
   "display_name": "Python 3.7.9 64-bit ('venv': venv)",
   "language": "python",
   "name": "python3"
  },
  "language_info": {
   "codemirror_mode": {
    "name": "ipython",
    "version": 3
   },
   "file_extension": ".py",
   "mimetype": "text/x-python",
   "name": "python",
   "nbconvert_exporter": "python",
   "pygments_lexer": "ipython3",
   "version": "3.7.9"
  },
  "orig_nbformat": 4
 },
 "nbformat": 4,
 "nbformat_minor": 2
}
