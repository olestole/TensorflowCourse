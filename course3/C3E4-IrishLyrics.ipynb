{
 "cells": [
  {
   "cell_type": "code",
   "execution_count": 98,
   "metadata": {},
   "outputs": [],
   "source": [
    "import tensorflow as tf\n",
    "\n",
    "from tensorflow.keras.preprocessing.sequence import pad_sequences\n",
    "from tensorflow.keras.layers import Embedding, LSTM, Dense, Bidirectional\n",
    "from tensorflow.keras.preprocessing.text import Tokenizer\n",
    "from tensorflow.keras.models import Sequential\n",
    "from tensorflow.keras.optimizers import Adam\n",
    "import numpy as np \n",
    "import os\n",
    "import gdown\n",
    "import matplotlib.pyplot as plt"
   ]
  },
  {
   "cell_type": "code",
   "execution_count": 2,
   "metadata": {},
   "outputs": [],
   "source": [
    "irish_lyrics_eof_id = \"15UqmiIm0xwh9mt0IYq2z3jHaauxQSTQT\"\n",
    "data_path = \"../data\"\n",
    "data_folder_path = os.path.join(data_path, \"C3E4-IrishLyrics/\")"
   ]
  },
  {
   "cell_type": "code",
   "execution_count": 3,
   "metadata": {},
   "outputs": [
    {
     "name": "stderr",
     "output_type": "stream",
     "text": [
      "Downloading...\n",
      "From: https://drive.google.com/uc?id=15UqmiIm0xwh9mt0IYq2z3jHaauxQSTQT\n",
      "To: /Users/olestole/code/kurs/tensorflow_specialty/data/C3E4-IrishLyrics/irish-lyrics-eof.txt\n",
      "100%|██████████| 69.0k/69.0k [00:00<00:00, 509kB/s]\n"
     ]
    },
    {
     "data": {
      "text/plain": [
       "'../data/C3E4-IrishLyrics/irish-lyrics-eof.txt'"
      ]
     },
     "execution_count": 3,
     "metadata": {},
     "output_type": "execute_result"
    }
   ],
   "source": [
    "os.makedirs(data_folder_path)\n",
    "\n",
    "# Irish lyrics\n",
    "gdown.download(id=irish_lyrics_eof_id, output=data_folder_path)"
   ]
  },
  {
   "cell_type": "code",
   "execution_count": 7,
   "metadata": {},
   "outputs": [],
   "source": [
    "irish_lyrics_path = os.path.join(data_folder_path, \"irish-lyrics-eof.txt\")\n",
    "data = open(irish_lyrics_path).read()"
   ]
  },
  {
   "cell_type": "code",
   "execution_count": 9,
   "metadata": {},
   "outputs": [],
   "source": [
    "# Create the corpus by parsin the raw text\n",
    "corpus = data.lower().split(\"\\n\")\n",
    "\n",
    "# Tokenize the corpus\n",
    "tokenizer = Tokenizer()\n",
    "tokenizer.fit_on_texts(corpus)\n",
    "word_index = tokenizer.word_index\n",
    "\n",
    "# +1 because we didn't provide a oov_token\n",
    "total_words = len(word_index) + 1\n"
   ]
  },
  {
   "cell_type": "code",
   "execution_count": 91,
   "metadata": {},
   "outputs": [],
   "source": [
    "# Create the training data by building xs and ys from the padded sequences\n",
    "\n",
    "# Create n_gram_sequences\n",
    "input_sequences = []\n",
    "for sentence in corpus:\n",
    "    token_list = tokenizer.texts_to_sequences([sentence])[0]\n",
    "    # Want the smallest sentence to be 2 so that 1 can be X and 1 can be Y\n",
    "    for i in range(1, len(token_list)):\n",
    "        n_gram_sequence = token_list[:i+1]\n",
    "        input_sequences.append(n_gram_sequence)\n",
    "\n",
    "# Find the longest sequence to set pad_length\n",
    "max_length = max([len(x) for x in input_sequences])\n",
    "\n",
    "# Pad the sequences\n",
    "padded = pad_sequences(input_sequences, maxlen=max_length, padding=\"pre\")\n",
    "\n",
    "# Use all but the last element as xs and the last for ys\n",
    "xs, labels = padded[:, : -1], padded[:, -1]\n",
    "\n",
    "# Create one-shot instances of the ys\n",
    "ys = tf.keras.utils.to_categorical(labels, num_classes=total_words)"
   ]
  },
  {
   "cell_type": "code",
   "execution_count": 93,
   "metadata": {},
   "outputs": [
    {
     "name": "stderr",
     "output_type": "stream",
     "text": [
      "2021-12-02 14:04:19.755092: I tensorflow/core/platform/cpu_feature_guard.cc:151] This TensorFlow binary is optimized with oneAPI Deep Neural Network Library (oneDNN) to use the following CPU instructions in performance-critical operations:  AVX2 FMA\n",
      "To enable them in other operations, rebuild TensorFlow with the appropriate compiler flags.\n"
     ]
    },
    {
     "name": "stdout",
     "output_type": "stream",
     "text": [
      "Model: \"sequential\"\n",
      "_________________________________________________________________\n",
      " Layer (type)                Output Shape              Param #   \n",
      "=================================================================\n",
      " embedding (Embedding)       (None, 15, 64)            172160    \n",
      "                                                                 \n",
      " bidirectional (Bidirectiona  (None, 100)              46000     \n",
      " l)                                                              \n",
      "                                                                 \n",
      " dense (Dense)               (None, 2690)              271690    \n",
      "                                                                 \n",
      "=================================================================\n",
      "Total params: 489,850\n",
      "Trainable params: 489,850\n",
      "Non-trainable params: 0\n",
      "_________________________________________________________________\n"
     ]
    }
   ],
   "source": [
    "# Create the model\n",
    "embedding_dims = 64\n",
    "# Subtract 1 since it's without the last word_index\n",
    "input_length = max_length - 1\n",
    "\n",
    "# TODO: Seems to overfit at acc ~0.78. Try changing the model\n",
    "model = tf.keras.Sequential([\n",
    "    tf.keras.layers.Embedding(total_words, embedding_dims, input_length=input_length),\n",
    "    tf.keras.layers.Bidirectional(tf.keras.layers.LSTM(50)),\n",
    "    tf.keras.layers.Dense(total_words, activation='softmax'),\n",
    "])\n",
    "\n",
    "optimizer = Adam(learning_rate=0.01)\n",
    "model.compile(optimizer=optimizer, loss=\"categorical_crossentropy\", metrics=[\"accuracy\"])\n",
    "model.summary()"
   ]
  },
  {
   "cell_type": "code",
   "execution_count": 116,
   "metadata": {},
   "outputs": [
    {
     "name": "stdout",
     "output_type": "stream",
     "text": [
      "Epoch 1/50\n",
      "377/377 - 4s - loss: 0.7839 - accuracy: 0.7894 - 4s/epoch - 10ms/step\n",
      "Epoch 2/50\n",
      "377/377 - 3s - loss: 0.8305 - accuracy: 0.7774 - 3s/epoch - 9ms/step\n",
      "Epoch 3/50\n",
      "377/377 - 3s - loss: 0.8364 - accuracy: 0.7747 - 3s/epoch - 9ms/step\n",
      "Epoch 4/50\n",
      "377/377 - 4s - loss: 0.8460 - accuracy: 0.7709 - 4s/epoch - 10ms/step\n",
      "Epoch 5/50\n",
      "377/377 - 4s - loss: 0.8405 - accuracy: 0.7715 - 4s/epoch - 10ms/step\n",
      "Epoch 6/50\n",
      "377/377 - 4s - loss: 0.8269 - accuracy: 0.7769 - 4s/epoch - 10ms/step\n",
      "Epoch 7/50\n",
      "377/377 - 4s - loss: 0.8167 - accuracy: 0.7786 - 4s/epoch - 10ms/step\n",
      "Epoch 8/50\n",
      "377/377 - 3s - loss: 0.7806 - accuracy: 0.7869 - 3s/epoch - 9ms/step\n",
      "Epoch 9/50\n",
      "377/377 - 3s - loss: 0.7605 - accuracy: 0.7937 - 3s/epoch - 9ms/step\n",
      "Epoch 10/50\n",
      "377/377 - 3s - loss: 0.7680 - accuracy: 0.7925 - 3s/epoch - 9ms/step\n",
      "Epoch 11/50\n",
      "377/377 - 3s - loss: 0.8130 - accuracy: 0.7789 - 3s/epoch - 9ms/step\n",
      "Epoch 12/50\n",
      "377/377 - 3s - loss: 0.8109 - accuracy: 0.7774 - 3s/epoch - 9ms/step\n",
      "Epoch 13/50\n",
      "377/377 - 3s - loss: 0.8191 - accuracy: 0.7757 - 3s/epoch - 9ms/step\n",
      "Epoch 14/50\n",
      "377/377 - 3s - loss: 0.8342 - accuracy: 0.7707 - 3s/epoch - 9ms/step\n",
      "Epoch 15/50\n",
      "377/377 - 3s - loss: 0.8270 - accuracy: 0.7746 - 3s/epoch - 9ms/step\n",
      "Epoch 16/50\n",
      "377/377 - 3s - loss: 0.8157 - accuracy: 0.7778 - 3s/epoch - 9ms/step\n",
      "Epoch 17/50\n",
      "377/377 - 3s - loss: 0.8154 - accuracy: 0.7815 - 3s/epoch - 9ms/step\n",
      "Epoch 18/50\n",
      "377/377 - 3s - loss: 0.7753 - accuracy: 0.7936 - 3s/epoch - 9ms/step\n",
      "Epoch 19/50\n",
      "377/377 - 3s - loss: 0.7472 - accuracy: 0.7991 - 3s/epoch - 9ms/step\n",
      "Epoch 20/50\n",
      "377/377 - 3s - loss: 0.7678 - accuracy: 0.7921 - 3s/epoch - 9ms/step\n",
      "Epoch 21/50\n",
      "377/377 - 3s - loss: 0.8297 - accuracy: 0.7787 - 3s/epoch - 9ms/step\n",
      "Epoch 22/50\n",
      "377/377 - 3s - loss: 0.8739 - accuracy: 0.7626 - 3s/epoch - 9ms/step\n",
      "Epoch 23/50\n",
      "377/377 - 4s - loss: 0.8414 - accuracy: 0.7691 - 4s/epoch - 9ms/step\n",
      "Epoch 24/50\n",
      "377/377 - 3s - loss: 0.8033 - accuracy: 0.7824 - 3s/epoch - 9ms/step\n",
      "Epoch 25/50\n",
      "377/377 - 3s - loss: 0.7858 - accuracy: 0.7821 - 3s/epoch - 9ms/step\n",
      "Epoch 26/50\n",
      "377/377 - 3s - loss: 0.8086 - accuracy: 0.7804 - 3s/epoch - 9ms/step\n",
      "Epoch 27/50\n",
      "377/377 - 3s - loss: 0.7916 - accuracy: 0.7855 - 3s/epoch - 9ms/step\n",
      "Epoch 28/50\n",
      "377/377 - 3s - loss: 0.7709 - accuracy: 0.7892 - 3s/epoch - 9ms/step\n",
      "Epoch 29/50\n",
      "377/377 - 3s - loss: 0.7534 - accuracy: 0.7978 - 3s/epoch - 9ms/step\n",
      "Epoch 30/50\n",
      "377/377 - 3s - loss: 0.7595 - accuracy: 0.7958 - 3s/epoch - 9ms/step\n",
      "Epoch 31/50\n",
      "377/377 - 3s - loss: 0.7861 - accuracy: 0.7871 - 3s/epoch - 9ms/step\n",
      "Epoch 32/50\n",
      "377/377 - 3s - loss: 0.8125 - accuracy: 0.7740 - 3s/epoch - 9ms/step\n",
      "Epoch 33/50\n",
      "377/377 - 4s - loss: 0.7988 - accuracy: 0.7804 - 4s/epoch - 9ms/step\n",
      "Epoch 34/50\n",
      "377/377 - 4s - loss: 0.8054 - accuracy: 0.7784 - 4s/epoch - 11ms/step\n",
      "Epoch 35/50\n",
      "377/377 - 4s - loss: 0.8487 - accuracy: 0.7699 - 4s/epoch - 10ms/step\n",
      "Epoch 36/50\n",
      "377/377 - 4s - loss: 0.8656 - accuracy: 0.7674 - 4s/epoch - 10ms/step\n",
      "Epoch 37/50\n",
      "377/377 - 4s - loss: 0.8603 - accuracy: 0.7628 - 4s/epoch - 10ms/step\n",
      "Epoch 38/50\n",
      "377/377 - 4s - loss: 0.8541 - accuracy: 0.7677 - 4s/epoch - 10ms/step\n",
      "Epoch 39/50\n",
      "377/377 - 4s - loss: 0.8811 - accuracy: 0.7629 - 4s/epoch - 10ms/step\n",
      "Epoch 40/50\n",
      "377/377 - 3s - loss: 0.8344 - accuracy: 0.7689 - 3s/epoch - 9ms/step\n",
      "Epoch 41/50\n",
      "377/377 - 4s - loss: 0.7933 - accuracy: 0.7842 - 4s/epoch - 9ms/step\n",
      "Epoch 42/50\n",
      "377/377 - 4s - loss: 0.7836 - accuracy: 0.7855 - 4s/epoch - 10ms/step\n",
      "Epoch 43/50\n",
      "377/377 - 3s - loss: 0.7723 - accuracy: 0.7870 - 3s/epoch - 9ms/step\n",
      "Epoch 44/50\n",
      "377/377 - 4s - loss: 0.7637 - accuracy: 0.7927 - 4s/epoch - 10ms/step\n",
      "Epoch 45/50\n",
      "377/377 - 3s - loss: 0.7550 - accuracy: 0.7954 - 3s/epoch - 9ms/step\n",
      "Epoch 46/50\n",
      "377/377 - 3s - loss: 0.7595 - accuracy: 0.7893 - 3s/epoch - 9ms/step\n",
      "Epoch 47/50\n",
      "377/377 - 4s - loss: 0.8294 - accuracy: 0.7710 - 4s/epoch - 10ms/step\n",
      "Epoch 48/50\n",
      "377/377 - 4s - loss: 0.8636 - accuracy: 0.7660 - 4s/epoch - 10ms/step\n",
      "Epoch 49/50\n",
      "377/377 - 4s - loss: 0.8770 - accuracy: 0.7598 - 4s/epoch - 9ms/step\n",
      "Epoch 50/50\n",
      "377/377 - 4s - loss: 0.8432 - accuracy: 0.7687 - 4s/epoch - 10ms/step\n"
     ]
    }
   ],
   "source": [
    "history = model.fit(xs, ys, epochs=50, verbose=2)"
   ]
  },
  {
   "cell_type": "code",
   "execution_count": 117,
   "metadata": {},
   "outputs": [
    {
     "data": {
      "image/png": "[encoded data removed]",
      "text/plain": [
       "<Figure size 432x288 with 1 Axes>"
      ]
     },
     "metadata": {
      "needs_background": "light"
     },
     "output_type": "display_data"
    },
    {
     "data": {
      "image/png": "[encoded data removed]",
      "text/plain": [
       "<Figure size 432x288 with 1 Axes>"
      ]
     },
     "metadata": {
      "needs_background": "light"
     },
     "output_type": "display_data"
    }
   ],
   "source": [
    "def plot_graphs(history, metric):\n",
    "    metric_data = history.history[metric]\n",
    "    plt.plot(metric_data)\n",
    "    plt.xlabel(\"Epochs\")\n",
    "    plt.ylabel(metric)\n",
    "    plt.show()\n",
    "\n",
    "plot_graphs(history, \"accuracy\")\n",
    "plot_graphs(history, \"loss\")"
   ]
  },
  {
   "cell_type": "code",
   "execution_count": 124,
   "metadata": {},
   "outputs": [
    {
     "name": "stdout",
     "output_type": "stream",
     "text": [
      "Laurence went Dublin with girls and boys twas young fellows of dublin town to antrim town to hades\n",
      " them barley for instead rising law agin\n"
     ]
    }
   ],
   "source": [
    "import random\n",
    "\n",
    "def generate_text(seed_text, length):\n",
    "\tline_length = random.randint(6, 12)\n",
    "\tline_count = 0\n",
    "\n",
    "\tfor _ in range(length):\n",
    "\t\ttoken_list = tokenizer.texts_to_sequences([seed_text])[0]\n",
    "\t\ttoken_list = pad_sequences([token_list], maxlen=max_length-1, padding='pre')\n",
    "\t\tpredicted = model.predict(token_list, verbose=0)\n",
    "\t\tpredicted_index = np.argmax(predicted)\n",
    "\t\toutput_word = \"\"\n",
    "\t\t\n",
    "\t\tword_values = list(tokenizer.word_index.values())\n",
    "\t\tword_keys = list(tokenizer.word_index.keys())\n",
    "\t\n",
    "\t\tpredicted_word_index = word_values.index(predicted_index)\n",
    "\t\tpredicted_word = word_keys[predicted_word_index]\n",
    "\n",
    "\t\tseed_text += \" \" + predicted_word\n",
    "\n",
    "\t\tif (line_count == line_length):\n",
    "\t\t\tseed_text += \"\\n\"\n",
    "\t\t\tline_count = 0\n",
    "\t\t\tline_length = random.randint(6, 12)\n",
    "\t\tline_count += 1\n",
    "\n",
    "\treturn seed_text\n",
    "\n",
    "seed_text = \"Laurence went Dublin with girls\"\n",
    "generated_text = generate_text(seed_text, 20)\n",
    "print(generated_text)"
   ]
  }
 ],
 "metadata": {
  "interpreter": {
   "hash": "f8b8d46b596f3682efb9d41cbca3c28fe17fcce043b965f9dcdd46717bc9d873"
  },
  "kernelspec": {
   "display_name": "Python 3.7.9 64-bit ('venv': venv)",
   "language": "python",
   "name": "python3"
  },
  "language_info": {
   "codemirror_mode": {
    "name": "ipython",
    "version": 3
   },
   "file_extension": ".py",
   "mimetype": "text/x-python",
   "name": "python",
   "nbconvert_exporter": "python",
   "pygments_lexer": "ipython3",
   "version": "3.7.9"
  },
  "orig_nbformat": 4
 },
 "nbformat": 4,
 "nbformat_minor": 2
}
